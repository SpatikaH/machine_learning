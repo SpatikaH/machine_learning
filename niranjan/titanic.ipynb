{
 "cells": [
  {
   "cell_type": "code",
   "execution_count": 402,
   "metadata": {},
   "outputs": [],
   "source": [
    "import pandas as pd\n",
    "import numpy as np\n",
    "from sklearn.model_selection import train_test_split\n",
    "from sklearn.linear_model import LogisticRegression, SGDClassifier\n",
    "from sklearn.ensemble import RandomForestClassifier\n",
    "from sklearn import svm\n",
    "from sklearn import neighbors"
   ]
  },
  {
   "cell_type": "code",
   "execution_count": 617,
   "metadata": {},
   "outputs": [],
   "source": [
    "# Just read training and testing dataset\n",
    "\n",
    "train = pd.read_csv(\"train.csv\", index_col=[\"PassengerId\"])\n",
    "test = pd.read_csv(\"test.csv\", index_col=[\"PassengerId\"])"
   ]
  },
  {
   "cell_type": "code",
   "execution_count": 618,
   "metadata": {},
   "outputs": [],
   "source": [
    "# Function to preprocess both train and test\n",
    "# Drops certain nan rows\n",
    "# Creates dummy variables for categorical features\n",
    "# Normalizes numerical data\n",
    "\n",
    "def preprocess(df, dup):\n",
    "    drop = [\"Name\", \"Ticket\", \"Cabin\"]\n",
    "    categorical = [\"Embarked\", \"Sex\"]\n",
    "    normalize = [\"Fare\", \"Age\",\"SibSp\", \"Parch\"]\n",
    "    \n",
    "    df.drop(columns=drop, inplace=True)\n",
    "\n",
    "    # Handle nan data\n",
    "    df[\"Age_known\"] = np.where(df[\"Age\"].isnull(), \"No\", \"Yes\")\n",
    "    df[\"Age\"].fillna(df[\"Age\"].mean(), inplace=True)\n",
    "    categorical.append(\"Age_known\")\n",
    "\n",
    "    # There are two nans in training and non in test\n",
    "    df.dropna(subset=[\"Embarked\"], inplace=True)\n",
    "    \n",
    "    df.fillna(0, inplace=True)\n",
    "    \n",
    "    # Dup if train. Duplicate only Age known columns (Just trying)\n",
    "    if dup == 1:\n",
    "        df_sub = df[df[\"Age_known\"] == \"Yes\"]\n",
    "        df = df.append([df_sub], ignore_index=True)\n",
    "    \n",
    "    # Take care of categorical features\n",
    "    df = pd.get_dummies(data=df, columns=categorical)\n",
    "    # Normalize numerical columns\n",
    "    df[normalize] = df[normalize].apply(lambda x: (x - x.min()) / (x.max() - x.min()))\n",
    "    \n",
    "    return df"
   ]
  },
  {
   "cell_type": "code",
   "execution_count": 619,
   "metadata": {},
   "outputs": [
    {
     "data": {
      "text/html": [
       "<div>\n",
       "<style scoped>\n",
       "    .dataframe tbody tr th:only-of-type {\n",
       "        vertical-align: middle;\n",
       "    }\n",
       "\n",
       "    .dataframe tbody tr th {\n",
       "        vertical-align: top;\n",
       "    }\n",
       "\n",
       "    .dataframe thead th {\n",
       "        text-align: right;\n",
       "    }\n",
       "</style>\n",
       "<table border=\"1\" class=\"dataframe\">\n",
       "  <thead>\n",
       "    <tr style=\"text-align: right;\">\n",
       "      <th></th>\n",
       "      <th>Survived</th>\n",
       "      <th>Pclass</th>\n",
       "      <th>Age</th>\n",
       "      <th>SibSp</th>\n",
       "      <th>Parch</th>\n",
       "      <th>Fare</th>\n",
       "      <th>Embarked_C</th>\n",
       "      <th>Embarked_Q</th>\n",
       "      <th>Embarked_S</th>\n",
       "      <th>Sex_female</th>\n",
       "      <th>Sex_male</th>\n",
       "      <th>Age_known_No</th>\n",
       "      <th>Age_known_Yes</th>\n",
       "    </tr>\n",
       "  </thead>\n",
       "  <tbody>\n",
       "    <tr>\n",
       "      <th>0</th>\n",
       "      <td>0</td>\n",
       "      <td>3</td>\n",
       "      <td>0.271174</td>\n",
       "      <td>0.125</td>\n",
       "      <td>0.0</td>\n",
       "      <td>0.014151</td>\n",
       "      <td>0</td>\n",
       "      <td>0</td>\n",
       "      <td>1</td>\n",
       "      <td>0</td>\n",
       "      <td>1</td>\n",
       "      <td>0</td>\n",
       "      <td>1</td>\n",
       "    </tr>\n",
       "    <tr>\n",
       "      <th>1</th>\n",
       "      <td>1</td>\n",
       "      <td>1</td>\n",
       "      <td>0.472229</td>\n",
       "      <td>0.125</td>\n",
       "      <td>0.0</td>\n",
       "      <td>0.139136</td>\n",
       "      <td>1</td>\n",
       "      <td>0</td>\n",
       "      <td>0</td>\n",
       "      <td>1</td>\n",
       "      <td>0</td>\n",
       "      <td>0</td>\n",
       "      <td>1</td>\n",
       "    </tr>\n",
       "    <tr>\n",
       "      <th>2</th>\n",
       "      <td>1</td>\n",
       "      <td>3</td>\n",
       "      <td>0.321438</td>\n",
       "      <td>0.000</td>\n",
       "      <td>0.0</td>\n",
       "      <td>0.015469</td>\n",
       "      <td>0</td>\n",
       "      <td>0</td>\n",
       "      <td>1</td>\n",
       "      <td>1</td>\n",
       "      <td>0</td>\n",
       "      <td>0</td>\n",
       "      <td>1</td>\n",
       "    </tr>\n",
       "    <tr>\n",
       "      <th>3</th>\n",
       "      <td>1</td>\n",
       "      <td>1</td>\n",
       "      <td>0.434531</td>\n",
       "      <td>0.125</td>\n",
       "      <td>0.0</td>\n",
       "      <td>0.103644</td>\n",
       "      <td>0</td>\n",
       "      <td>0</td>\n",
       "      <td>1</td>\n",
       "      <td>1</td>\n",
       "      <td>0</td>\n",
       "      <td>0</td>\n",
       "      <td>1</td>\n",
       "    </tr>\n",
       "    <tr>\n",
       "      <th>4</th>\n",
       "      <td>0</td>\n",
       "      <td>3</td>\n",
       "      <td>0.434531</td>\n",
       "      <td>0.000</td>\n",
       "      <td>0.0</td>\n",
       "      <td>0.015713</td>\n",
       "      <td>0</td>\n",
       "      <td>0</td>\n",
       "      <td>1</td>\n",
       "      <td>0</td>\n",
       "      <td>1</td>\n",
       "      <td>0</td>\n",
       "      <td>1</td>\n",
       "    </tr>\n",
       "  </tbody>\n",
       "</table>\n",
       "</div>"
      ],
      "text/plain": [
       "   Survived  Pclass       Age  SibSp  Parch      Fare  Embarked_C  Embarked_Q  \\\n",
       "0         0       3  0.271174  0.125    0.0  0.014151           0           0   \n",
       "1         1       1  0.472229  0.125    0.0  0.139136           1           0   \n",
       "2         1       3  0.321438  0.000    0.0  0.015469           0           0   \n",
       "3         1       1  0.434531  0.125    0.0  0.103644           0           0   \n",
       "4         0       3  0.434531  0.000    0.0  0.015713           0           0   \n",
       "\n",
       "   Embarked_S  Sex_female  Sex_male  Age_known_No  Age_known_Yes  \n",
       "0           1           0         1             0              1  \n",
       "1           0           1         0             0              1  \n",
       "2           1           1         0             0              1  \n",
       "3           1           1         0             0              1  \n",
       "4           1           0         1             0              1  "
      ]
     },
     "execution_count": 619,
     "metadata": {},
     "output_type": "execute_result"
    }
   ],
   "source": [
    "# Cleanup train and test\n",
    "\n",
    "train = preprocess(train, 1)\n",
    "test = preprocess(test, 0)\n",
    "train.head()"
   ]
  },
  {
   "cell_type": "code",
   "execution_count": 620,
   "metadata": {},
   "outputs": [],
   "source": [
    "# Split the training dataset into test and validation. \n",
    "# Should mostly cross validate as data is scarce\n",
    "\n",
    "X, Y = train.iloc[:, 1:], train.iloc[:,0]\n",
    "train_x, valid_x, train_y, valid_y = train_test_split(X, Y, test_size=0.2)"
   ]
  },
  {
   "cell_type": "code",
   "execution_count": 621,
   "metadata": {},
   "outputs": [
    {
     "data": {
      "text/plain": [
       "SGDClassifier(alpha=0.0001, average=False, class_weight=None, epsilon=0.1,\n",
       "       eta0=0.0, fit_intercept=True, l1_ratio=0.15,\n",
       "       learning_rate='optimal', loss='log', max_iter=10000, n_iter=None,\n",
       "       n_jobs=1, penalty=None, power_t=0.5, random_state=None,\n",
       "       shuffle=True, tol=1, verbose=0, warm_start=False)"
      ]
     },
     "execution_count": 621,
     "metadata": {},
     "output_type": "execute_result"
    }
   ],
   "source": [
    "# Trying out different classifiers. Comment out those not in use\n",
    "\n",
    "classifier = SGDClassifier(loss=\"log\", tol=1, max_iter= 10000, penalty=None)\n",
    "#classifier = RandomForestClassifier(max_features=4)\n",
    "#classifier = svm.SVC(tol=0.3)\n",
    "classifier.fit(train_x, train_y)"
   ]
  },
  {
   "cell_type": "code",
   "execution_count": 622,
   "metadata": {},
   "outputs": [
    {
     "data": {
      "text/plain": [
       "0.7875"
      ]
     },
     "execution_count": 622,
     "metadata": {},
     "output_type": "execute_result"
    }
   ],
   "source": [
    "# Training accuracy\n",
    "classifier.score(train_x, train_y)"
   ]
  },
  {
   "cell_type": "code",
   "execution_count": 623,
   "metadata": {},
   "outputs": [
    {
     "data": {
      "text/plain": [
       "0.8037383177570093"
      ]
     },
     "execution_count": 623,
     "metadata": {},
     "output_type": "execute_result"
    }
   ],
   "source": [
    "# Validation accuracy\n",
    "classifier.score(valid_x, valid_y)"
   ]
  },
  {
   "cell_type": "code",
   "execution_count": 615,
   "metadata": {},
   "outputs": [],
   "source": [
    "# Our predictions\n",
    "test[\"Survived\"] = classifier.predict(test)"
   ]
  },
  {
   "cell_type": "code",
   "execution_count": 616,
   "metadata": {},
   "outputs": [
    {
     "data": {
      "text/plain": [
       "PassengerId\n",
       "892     0\n",
       "893     0\n",
       "894     0\n",
       "895     0\n",
       "896     1\n",
       "897     0\n",
       "898     0\n",
       "899     0\n",
       "900     1\n",
       "901     0\n",
       "902     0\n",
       "903     0\n",
       "904     1\n",
       "905     0\n",
       "906     1\n",
       "907     1\n",
       "908     0\n",
       "909     0\n",
       "910     1\n",
       "911     0\n",
       "912     0\n",
       "913     0\n",
       "914     1\n",
       "915     1\n",
       "916     1\n",
       "917     0\n",
       "918     1\n",
       "919     0\n",
       "920     0\n",
       "921     0\n",
       "       ..\n",
       "1280    0\n",
       "1281    0\n",
       "1282    1\n",
       "1283    1\n",
       "1284    0\n",
       "1285    0\n",
       "1286    0\n",
       "1287    1\n",
       "1288    0\n",
       "1289    1\n",
       "1290    0\n",
       "1291    0\n",
       "1292    1\n",
       "1293    0\n",
       "1294    1\n",
       "1295    1\n",
       "1296    0\n",
       "1297    0\n",
       "1298    0\n",
       "1299    0\n",
       "1300    0\n",
       "1301    1\n",
       "1302    0\n",
       "1303    1\n",
       "1304    1\n",
       "1305    0\n",
       "1306    1\n",
       "1307    0\n",
       "1308    0\n",
       "1309    0\n",
       "Name: Survived, Length: 418, dtype: int64"
      ]
     },
     "execution_count": 616,
     "metadata": {},
     "output_type": "execute_result"
    }
   ],
   "source": [
    "# Create submission file\n",
    "test.to_csv('submit.csv', columns = [\"Survived\"])\n",
    "test[\"Survived\"]"
   ]
  },
  {
   "cell_type": "code",
   "execution_count": null,
   "metadata": {},
   "outputs": [],
   "source": []
  }
 ],
 "metadata": {
  "kernelspec": {
   "display_name": "Python 3",
   "language": "python",
   "name": "python3"
  },
  "language_info": {
   "codemirror_mode": {
    "name": "ipython",
    "version": 3
   },
   "file_extension": ".py",
   "mimetype": "text/x-python",
   "name": "python",
   "nbconvert_exporter": "python",
   "pygments_lexer": "ipython3",
   "version": "3.6.3"
  }
 },
 "nbformat": 4,
 "nbformat_minor": 2
}
